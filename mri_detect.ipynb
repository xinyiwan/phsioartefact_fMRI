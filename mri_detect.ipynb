{
 "cells": [
  {
   "cell_type": "code",
   "execution_count": 35,
   "metadata": {},
   "outputs": [],
   "source": [
    "import numpy as np\n",
    "import pandas as pd \n",
    "\n",
    "df = pd.read_csv('data.csv')\n",
    "\n",
    "df = df['mri']"
   ]
  },
  {
   "cell_type": "markdown",
   "metadata": {},
   "source": [
    "## Mark the position of every MRI pulse"
   ]
  },
  {
   "cell_type": "code",
   "execution_count": 38,
   "metadata": {},
   "outputs": [
    {
     "data": {
      "text/plain": [
       "187818     3.12103\n",
       "187819     3.11310\n",
       "187820     3.10791\n",
       "187821     3.10455\n",
       "187822     3.10272\n",
       "            ...   \n",
       "6970868    3.10638\n",
       "6970869    3.10730\n",
       "6970870    3.10669\n",
       "6970871    3.10638\n",
       "6970872    3.10638\n",
       "Name: mri, Length: 7953, dtype: float64"
      ]
     },
     "execution_count": 38,
     "metadata": {},
     "output_type": "execute_result"
    }
   ],
   "source": [
    "pulse = df[df[:] > 3.1]\n",
    "pulse\n"
   ]
  },
  {
   "cell_type": "code",
   "execution_count": 45,
   "metadata": {},
   "outputs": [
    {
     "data": {
      "text/plain": [
       "Int64Index([187818, 187819, 187820, 187821, 187822, 187823, 187824, 187825,\n",
       "            187826, 187827, 187828, 187829, 187830, 187831, 187832, 187833,\n",
       "            187834, 187835, 187836, 187837, 204818, 204819, 204820, 204821,\n",
       "            204822, 204823, 204824, 204825, 204826, 204827, 204828, 204829,\n",
       "            204830, 204831, 204832, 204833, 204834, 204835, 204836, 204837,\n",
       "            221818, 221819, 221820, 221821, 221822, 221823, 221824, 221825,\n",
       "            221826, 221827, 221828, 221829, 221830, 221831, 221832, 221833,\n",
       "            221834, 221835, 221836, 221837, 238818, 238819, 238820, 238821,\n",
       "            238822, 238823, 238824, 238825, 238826, 238827, 238828, 238829,\n",
       "            238830, 238831, 238832, 238833, 238834, 238835, 238836, 238837,\n",
       "            255818, 255819, 255820, 255821, 255822, 255823, 255824, 255825,\n",
       "            255826, 255827, 255828, 255829, 255830, 255831, 255832, 255833,\n",
       "            255834, 255835, 255836, 255837],\n",
       "           dtype='int64')"
      ]
     },
     "execution_count": 45,
     "metadata": {},
     "output_type": "execute_result"
    }
   ],
   "source": [
    "index_p = pulse.index\n",
    "index_p[0:100]\n"
   ]
  },
  {
   "cell_type": "code",
   "execution_count": 55,
   "metadata": {},
   "outputs": [
    {
     "data": {
      "text/plain": [
       "400"
      ]
     },
     "execution_count": 55,
     "metadata": {},
     "output_type": "execute_result"
    }
   ],
   "source": [
    "tag = []\n",
    "tag.append(index_p[0])\n",
    "ref = index_p[0]\n",
    "\n",
    "for i in range(len(index_p)):\n",
    "    if i == len(index_p) - 1:\n",
    "        break\n",
    "\n",
    "    if index_p[i+1] -  ref > 50:\n",
    "        tag.append(index_p[i+1])\n",
    "        ref = index_p[i+1]\n",
    "\n",
    "len(tag)\n",
    "\n",
    "\n",
    "\n"
   ]
  },
  {
   "cell_type": "code",
   "execution_count": 57,
   "metadata": {},
   "outputs": [],
   "source": [
    "tag = pd.DataFrame(tag)\n",
    "tag.to_csv('mri_pulse.csv', index = None)\n"
   ]
  },
  {
   "cell_type": "code",
   "execution_count": 58,
   "metadata": {},
   "outputs": [
    {
     "data": {
      "text/html": [
       "<div>\n",
       "<style scoped>\n",
       "    .dataframe tbody tr th:only-of-type {\n",
       "        vertical-align: middle;\n",
       "    }\n",
       "\n",
       "    .dataframe tbody tr th {\n",
       "        vertical-align: top;\n",
       "    }\n",
       "\n",
       "    .dataframe thead th {\n",
       "        text-align: right;\n",
       "    }\n",
       "</style>\n",
       "<table border=\"1\" class=\"dataframe\">\n",
       "  <thead>\n",
       "    <tr style=\"text-align: right;\">\n",
       "      <th></th>\n",
       "      <th>0</th>\n",
       "    </tr>\n",
       "  </thead>\n",
       "  <tbody>\n",
       "    <tr>\n",
       "      <th>0</th>\n",
       "      <td>187818</td>\n",
       "    </tr>\n",
       "    <tr>\n",
       "      <th>1</th>\n",
       "      <td>204818</td>\n",
       "    </tr>\n",
       "    <tr>\n",
       "      <th>2</th>\n",
       "      <td>221818</td>\n",
       "    </tr>\n",
       "    <tr>\n",
       "      <th>3</th>\n",
       "      <td>238818</td>\n",
       "    </tr>\n",
       "    <tr>\n",
       "      <th>4</th>\n",
       "      <td>255818</td>\n",
       "    </tr>\n",
       "    <tr>\n",
       "      <th>...</th>\n",
       "      <td>...</td>\n",
       "    </tr>\n",
       "    <tr>\n",
       "      <th>395</th>\n",
       "      <td>6902853</td>\n",
       "    </tr>\n",
       "    <tr>\n",
       "      <th>396</th>\n",
       "      <td>6919853</td>\n",
       "    </tr>\n",
       "    <tr>\n",
       "      <th>397</th>\n",
       "      <td>6936853</td>\n",
       "    </tr>\n",
       "    <tr>\n",
       "      <th>398</th>\n",
       "      <td>6953853</td>\n",
       "    </tr>\n",
       "    <tr>\n",
       "      <th>399</th>\n",
       "      <td>6970853</td>\n",
       "    </tr>\n",
       "  </tbody>\n",
       "</table>\n",
       "<p>400 rows × 1 columns</p>\n",
       "</div>"
      ],
      "text/plain": [
       "           0\n",
       "0     187818\n",
       "1     204818\n",
       "2     221818\n",
       "3     238818\n",
       "4     255818\n",
       "..       ...\n",
       "395  6902853\n",
       "396  6919853\n",
       "397  6936853\n",
       "398  6953853\n",
       "399  6970853\n",
       "\n",
       "[400 rows x 1 columns]"
      ]
     },
     "execution_count": 58,
     "metadata": {},
     "output_type": "execute_result"
    }
   ],
   "source": [
    "tag"
   ]
  }
 ],
 "metadata": {
  "kernelspec": {
   "display_name": "Python 3.8.8 ('base')",
   "language": "python",
   "name": "python3"
  },
  "language_info": {
   "codemirror_mode": {
    "name": "ipython",
    "version": 3
   },
   "file_extension": ".py",
   "mimetype": "text/x-python",
   "name": "python",
   "nbconvert_exporter": "python",
   "pygments_lexer": "ipython3",
   "version": "3.8.8"
  },
  "orig_nbformat": 4,
  "vscode": {
   "interpreter": {
    "hash": "40d3a090f54c6569ab1632332b64b2c03c39dcf918b08424e98f38b5ae0af88f"
   }
  }
 },
 "nbformat": 4,
 "nbformat_minor": 2
}
