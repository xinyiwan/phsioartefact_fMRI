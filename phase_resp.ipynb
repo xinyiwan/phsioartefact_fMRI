{
 "cells": [
  {
   "cell_type": "code",
   "execution_count": 1,
   "metadata": {},
   "outputs": [],
   "source": [
    "import pandas as pd \n",
    "import numpy as np \n",
    "import math\n",
    "\n",
    "pulse = pd.read_csv('mri_pulse.csv').to_numpy()\n",
    "peak = pd.read_csv('resp_pulse.csv').to_numpy()\n",
    "df = pd.read_csv('rawdata.csv').to_numpy()\n",
    "df = df[0:7000000]\n",
    "\n"
   ]
  },
  {
   "cell_type": "markdown",
   "metadata": {},
   "source": [
    "# Make the equalized histogram of the amplitude"
   ]
  },
  {
   "cell_type": "code",
   "execution_count": 26,
   "metadata": {},
   "outputs": [],
   "source": [
    "## mark the samples with abnormal value\n",
    "\n",
    "resp = np.zeros([len(df),2])\n",
    "resp[:,0] = df[:,1]\n",
    "resp[:,1] = np.where(resp[:,0] > 0.07, False, True)\n"
   ]
  },
  {
   "cell_type": "code",
   "execution_count": 29,
   "metadata": {},
   "outputs": [],
   "source": [
    "max_value = np.max(resp[np.where(resp[:,1] == True),0])\n",
    "max_value\n",
    "min_value = np.min(resp[np.where(resp[:,1] == True),0])\n",
    "min_value\n",
    "range = max_value - min_value"
   ]
  },
  {
   "cell_type": "code",
   "execution_count": 34,
   "metadata": {},
   "outputs": [
    {
     "data": {
      "text/plain": [
       "(array([   256,      0,    384,    640,   2816,  10368,  16512,  22528,\n",
       "         27008,  51456,  59520,  81024,  66304, 115584, 134400, 148736,\n",
       "        122624, 123008, 151552, 151552, 136576, 116480, 137728, 116224,\n",
       "        114432,  70016, 117248, 124160, 110208, 100480, 103808, 112256,\n",
       "        103424,  91776,  95232, 101120,  86656,  63488,  95616,  94464,\n",
       "         94592,  80256,  91008,  93696,  91904,  79488,  96384,  96000,\n",
       "        110464,  98048, 105728, 149760, 181248, 154240, 209280, 219008,\n",
       "        203392, 196352, 203200, 230272, 182656, 161280, 104320, 117632,\n",
       "         82048,  72832,  46208,  30208,  19968,   6144,   6528,   2688,\n",
       "           256,    128,      0,    128,      0,    128,    128,      0,\n",
       "           128,      0,    128,    128,    128,      0,    128,      0,\n",
       "             0,    128,    128,      0,    128,    256,      0,    256,\n",
       "             0,    256,      0,    384]),\n",
       " array([0.  , 0.01, 0.02, 0.03, 0.04, 0.05, 0.06, 0.07, 0.08, 0.09, 0.1 ,\n",
       "        0.11, 0.12, 0.13, 0.14, 0.15, 0.16, 0.17, 0.18, 0.19, 0.2 , 0.21,\n",
       "        0.22, 0.23, 0.24, 0.25, 0.26, 0.27, 0.28, 0.29, 0.3 , 0.31, 0.32,\n",
       "        0.33, 0.34, 0.35, 0.36, 0.37, 0.38, 0.39, 0.4 , 0.41, 0.42, 0.43,\n",
       "        0.44, 0.45, 0.46, 0.47, 0.48, 0.49, 0.5 , 0.51, 0.52, 0.53, 0.54,\n",
       "        0.55, 0.56, 0.57, 0.58, 0.59, 0.6 , 0.61, 0.62, 0.63, 0.64, 0.65,\n",
       "        0.66, 0.67, 0.68, 0.69, 0.7 , 0.71, 0.72, 0.73, 0.74, 0.75, 0.76,\n",
       "        0.77, 0.78, 0.79, 0.8 , 0.81, 0.82, 0.83, 0.84, 0.85, 0.86, 0.87,\n",
       "        0.88, 0.89, 0.9 , 0.91, 0.92, 0.93, 0.94, 0.95, 0.96, 0.97, 0.98,\n",
       "        0.99, 1.  ]))"
      ]
     },
     "execution_count": 34,
     "metadata": {},
     "output_type": "execute_result"
    }
   ],
   "source": [
    "f = lambda x: (x-min_value)/(range)\n",
    "resp_norm = f(resp[np.where(resp[:,1] == True),0])\n",
    "np.histogram(resp_norm, bins =100)\n"
   ]
  },
  {
   "cell_type": "code",
   "execution_count": 35,
   "metadata": {},
   "outputs": [],
   "source": [
    "import matplotlib.pyplot as plt\n",
    "\n",
    "_ = plt.hist(resp_norm, bins=100)\n",
    "plt.show()"
   ]
  }
 ],
 "metadata": {
  "kernelspec": {
   "display_name": "Python 3.8.8 ('base')",
   "language": "python",
   "name": "python3"
  },
  "language_info": {
   "codemirror_mode": {
    "name": "ipython",
    "version": 3
   },
   "file_extension": ".py",
   "mimetype": "text/x-python",
   "name": "python",
   "nbconvert_exporter": "python",
   "pygments_lexer": "ipython3",
   "version": "3.8.8"
  },
  "orig_nbformat": 4,
  "vscode": {
   "interpreter": {
    "hash": "40d3a090f54c6569ab1632332b64b2c03c39dcf918b08424e98f38b5ae0af88f"
   }
  }
 },
 "nbformat": 4,
 "nbformat_minor": 2
}
